{
 "cells": [
  {
   "cell_type": "code",
   "execution_count": 9,
   "metadata": {},
   "outputs": [
    {
     "data": {
      "text/plain": [
       "<module 'plotting_func' from '/Users/ramlal/Library/CloudStorage/OneDrive-Chalmers/PhD_PROJECT_FILES/Work/Data_driven_astronomy_course/Machine-Learning-Imaging/scripts/plotting_func.py'>"
      ]
     },
     "execution_count": 9,
     "metadata": {},
     "output_type": "execute_result"
    }
   ],
   "source": [
    "import os\n",
    "import time\n",
    "import numpy as np\n",
    "import matplotlib.pyplot as plt\n",
    "import torch\n",
    "from PIL import Image, ImageOps, ImageMath\n",
    "from astropy.utils.data import download_file\n",
    "from mpol.__init__ import zenodo_record\n",
    "from mpol import coordinates, gridding, fourier, losses, precomposed, utils\n",
    "from mpol.images import ImageCube\n",
    "import importlib\n",
    "\n",
    "import training_func\n",
    "importlib.reload(training_func)\n",
    "import plotting_func\n",
    "importlib.reload(plotting_func)"
   ]
  },
  {
   "cell_type": "code",
   "execution_count": 10,
   "metadata": {},
   "outputs": [],
   "source": [
    "###########################################################################################\n",
    "def RML_imager(visibility_file, cell_size, npix, learning_rate, hyperparams_config, start_from_dirty_image=False, learning_rate_dim=None, n_iter_dim=None,):\n",
    "    '''---------------------------------------------------------------------------------------\n",
    "    Performs the RML imaging process using the SimpleNet model on the input visibilities\n",
    "    to produce surface brightness maps of the source in the image plane. Currently uses\n",
    "    only the NLL loss function, without other regularizers.\n",
    "\n",
    "    # TODO:\n",
    "    1. Start the training loop from the dirty image instead of a flat BaseCube. #*DONE*#\n",
    "    2. Implement regularizers in the loss function. #*DONE*#\n",
    "    3. Optimise regularisers to improve the quality of the final image.\n",
    "    4. Use cross-validation to find the best hyperparameters for the RML imaging process.\n",
    "    5. Compare the final image with that from CASA tclean.\n",
    "    6. Add functionality to save the final image cube as a FITS file.\n",
    "    7. Look into how to image multi-channel continuum visibilities into a single channel image.\n",
    "    ----------------------------------------------------------------------------------------'''\n",
    "\n",
    "    # create a directory to store the outputs of the RML imaging process\n",
    "    if not os.path.exists('RML_loop_outputs/'):\n",
    "        os.makedirs('RML_loop_outputs/')\n",
    "\n",
    "    # load the mock visibilities from the .npz file\n",
    "    d = np.load(visibility_file)\n",
    "    uu = d[\"uu\"]\n",
    "    vv = d[\"vv\"]\n",
    "    weight = d[\"weight\"]\n",
    "    data = d[\"data\"]\n",
    "    data_re = np.real(data)\n",
    "    data_im = np.imag(data)\n",
    "    nvis = len(uu)\n",
    "    print(f'Loaded visibilities from {visibility_file}.')\n",
    "    print(f'The dataset has {nvis} visibilities.\\n')\n",
    "\n",
    "    # check if the input cell size Nyquist samples the spatial frequency represented by the maximum u,v value\n",
    "    max_uv = np.max(np.array([uu,vv]))\n",
    "    max_cell_size = utils.get_maximum_cell_size(max_uv)\n",
    "    if cell_size > max_cell_size:\n",
    "        raise ValueError(f'The input cell size ({cell_size} arcseconds) does not Nyquist sample the spatial frequency represented by the maximum u,v value.\\nThe maximum cell_size that will still Nyquist sample the spatial frequency represented by the maximum u,v value is {max_cell_size:.2f} arcseconds).\\nPlease change the cell size to be less than {max_cell_size:.2f} arcseconds.\\n')\n",
    "    else:\n",
    "        print(f'The input cell size ({cell_size} arcseconds) Nyquist samples the spatial frequency represented by the maximum u,v value.\\n(The maximum cell_size that will still Nyquist sample the spatial frequency represented by the maximum u,v value is {max_cell_size:.2f} arcseconds).\\n')\n",
    "\n",
    "    # plot and save the downloaded (u,v) distribution\n",
    "    plotting_func.plot_uv_distribution(uu, vv)\n",
    "\n",
    "    # instantiate the gridcoords object\n",
    "    coords = coordinates.GridCoords(cell_size=cell_size, npix=npix)\n",
    "\n",
    "    # instantiate the dirty imager object\n",
    "    imager = gridding.DirtyImager(\n",
    "        coords=coords,\n",
    "        uu=uu,\n",
    "        vv=vv,\n",
    "        weight=weight,\n",
    "        data_re=data_re,\n",
    "        data_im=data_im,\n",
    "    )\n",
    "\n",
    "    # calculate the dirty image and the beam using Briggs weighting with robust=0.0\n",
    "    img, beam = imager.get_dirty_image(weighting=\"briggs\", robust=0.0)\n",
    "    print(f\"Calculated dirty beam and dirty image using Briggs weighting with robust=0.0.\")\n",
    "\n",
    "    # plot and save the calculated dirty image and dirty beam\n",
    "    chan = 0\n",
    "    plotting_func.plot_dirty(imager, img, beam, chan)\n",
    "\n",
    "    # instantiate the data averager object\n",
    "    averager = gridding.DataAverager(\n",
    "        coords=coords,\n",
    "        uu=uu,\n",
    "        vv=vv,\n",
    "        weight=weight,\n",
    "        data_re=data_re,\n",
    "        data_im=data_im,\n",
    "        )\n",
    "\n",
    "    # convert the gridded visibilities to a pytorch dataset\n",
    "    dset = averager.to_pytorch_dataset()\n",
    "    print('Gridded and converted visibilities to a pytorch dataset.')\n",
    "    print(f\"The dataset has {dset.nchan} channel(s).\\n\") # TODO: Look into how to image multi-channel continuum visibilities into a single channel image.\n",
    "\n",
    "    if start_from_dirty_image:\n",
    "        ###-----------------------------------------------------------------------------------------------------------------###\n",
    "        rml_dim=training_func.seed_from_dirty_image(learning_rate_dim, n_iter_dim, coords, img, dset)\n",
    "        ###-----------------------------------------------------------------------------------------------------------------###\n",
    "\n",
    "    # initialise SimpleNet\n",
    "    rml = precomposed.SimpleNet(coords=coords, nchan=dset.nchan)\n",
    "    print(f\"SimpleNet network initialised.\")\n",
    "\n",
    "    # choose the model image to set as the initial BaseCube\n",
    "    if start_from_dirty_image:\n",
    "        # load the optimised initial model image (BaseCube) from the .pt file\n",
    "        rml.load_state_dict(torch.load(\"RML_loop_outputs/dirty_image_model.pt\"))\n",
    "        print('Using optimised initial model image (loaded from: RML_loop_outputs/dirty_image_model.pt) based on the dirty image as the initial BaseCube image\\n')\n",
    "    else:\n",
    "        # use the default flat initial model image in the BaseCube\n",
    "        print('Starting from the default flat initial model image (BaseCube).\\n')\n",
    "\n",
    "    # Because we want to compute a clean set of gradient values in a later step, we “zero out” any gradients attached to the tensor components so that they aren’t counted twice.\n",
    "    rml.zero_grad()\n",
    "\n",
    "    # instantiate the SGD optimizer\n",
    "    optimizer = torch.optim.Adam(rml.parameters(), lr=learning_rate)\n",
    "    # optimizer.zero_grad()\n",
    "\n",
    "    start_time = time.time()\n",
    "    ###~~~~~~~~~~~~~~~~~~~~~~~~~~~~~~~~~~~~~~~~~~~~~~~~~~~~~~~~~~~~~~~~~~~~~~~~~~~~~~~~~~~~~~~~~~~~~~~~~~~~~~~~~~~~~~~~~~~~~~~~~~~~~~~~###\n",
    "    # Run the training loop\n",
    "    print(\"Starting the optimisation loop with {} iterations...\".format(hyperparams_config[\"epochs\"]))\n",
    "    loss_tracker=training_func.train(hyperparams_config, dset, rml, optimizer)\n",
    "    print(\"loss tracker: \", loss_tracker)\n",
    "    ###~~~~~~~~~~~~~~~~~~~~~~~~~~~~~~~~~~~~~~~~~~~~~~~~~~~~~~~~~~~~~~~~~~~~~~~~~~~~~~~~~~~~~~~~~~~~~~~~~~~~~~~~~~~~~~~~~~~~~~~~~~~~~~~~###\n",
    "    end_time = time.time()\n",
    "    print('Done.')\n",
    "\n",
    "    # calculate the time taken for the optimisation loop to finish\n",
    "    elapsed_time = end_time - start_time\n",
    "    print(f\"The optimisation loop finished in {elapsed_time:.2f} seconds.\\n\")\n",
    "\n",
    "    # print the initial and final loss values\n",
    "    print(f\"Initial loss: {loss_tracker[0]:.2f}\")\n",
    "    print(f\"Final loss: {loss_tracker[-1]:.2f}\\n\")\n",
    "\n",
    "    # plot the loss per iteration\n",
    "    plotting_func.plot_loss_per_iter(hyperparams_config, loss_tracker)\n",
    "\n",
    "    # detach the model 'sky' image from the computational graph and convert it to a numpy array\n",
    "    img_cube = rml.icube.sky_cube.detach().numpy() # TODO: Add functionality to save this image cube as a FITS file\n",
    "\n",
    "    # plot the final model image after the last iteration\n",
    "    plotting_func.plot_final_image(rml, img_cube)\n",
    "\n",
    "    return img_cube\n",
    "###########################################################################################"
   ]
  },
  {
   "cell_type": "code",
   "execution_count": 11,
   "metadata": {},
   "outputs": [],
   "source": [
    "# input parameters\n",
    "###########################################################################################################################################\n",
    "visibility_file = '../data/visibilities/mock_visibilities_model_star_new.npz' # path to the .npz file containing the observed visibilities\n",
    "cell_size = 0.03 # arcseconds\n",
    "npix = 128 # number of pixels per image axis\n",
    "learning_rate = 0.5 # learning rate for the optimizer\n",
    "# n_iter = 25 # number of iterations for the optimizer\n",
    "\n",
    "# hyperparameters used in the function and the optimizer (set those not being used to 0)\n",
    "hyperparams_config = (\n",
    "    # {\"lambda_sparsity\": 7.0e-05,\n",
    "    # \"lambda_TV\": 0.00,\n",
    "    # \"entropy\": 1e-03,\n",
    "    # \"prior_intensity\": 1.5e-07,\n",
    "    # \"TSV\": 0.00,\n",
    "    # \"epochs\": 1000,\n",
    "    # }\n",
    "    # {'lambda_sparsity': 1.e-4,\n",
    "    #     'lambda_TV': 1.e-4,\n",
    "    #     'entropy': 1.e-03,\n",
    "    #     'prior_intensity': 1.0e-07,\n",
    "    #     'TSV': 1.0e-03,\n",
    "    #     \"epochs\": 1000,}\n",
    "    {'lambda_sparsity': 1.e-4,\n",
    "        'lambda_TV': 1.e-4,\n",
    "        'entropy': 0.0,\n",
    "        'prior_intensity': 1.0e-7,\n",
    "        'TSV': 0.0,\n",
    "        \"epochs\": 600}\n",
    ")\n",
    "\n",
    "start_from_dirty_image = True # If True, the initial BaseCube image is set to the dirty image, else to the default flat image.\n",
    "###########################################################################################################################################"
   ]
  },
  {
   "cell_type": "code",
   "execution_count": 12,
   "metadata": {},
   "outputs": [
    {
     "name": "stdout",
     "output_type": "stream",
     "text": [
      "Loaded visibilities from ../data/visibilities/mock_visibilities_model_star_new.npz.\n",
      "The dataset has 325080 visibilities.\n",
      "\n",
      "The input cell size (0.03 arcseconds) Nyquist samples the spatial frequency represented by the maximum u,v value.\n",
      "(The maximum cell_size that will still Nyquist sample the spatial frequency represented by the maximum u,v value is 0.09 arcseconds).\n",
      "\n"
     ]
    },
    {
     "name": "stdout",
     "output_type": "stream",
     "text": [
      "(u,v) distribution plot saved to: RML_loop_outputs/uv_distribution.pdf\n",
      "\n",
      "Calculated dirty beam and dirty image using Briggs weighting with robust=0.0.\n",
      "Dirty beam and dirty image plot saved to: RML_loop_outputs/dirty_beam_and_dirty_image.pdf\n",
      "The dirty image contains 11266 negative pixels.\n",
      "\n",
      "Gridded and converted visibilities to a pytorch dataset.\n",
      "The dataset has 1 channel(s).\n",
      "\n",
      "Starting the optimisation loop with 500 iterations to optimise the initial model image (BaseCube) based on the dirty image...\n",
      "Loss per iteration (for optimising the BaseCube image to the dirty image) plot saved to: RML_loop_outputs/loss_per_iteration_dim.pdf\n",
      "Loss per iteration (for optimising the initial BaseCube to the dirty image) plot saved to: RML_loop_outputs/optimised_input_model_image_based_on_dirty_image.pdf\n",
      "The optimised initial image based on the dirty image contains 0 negative pixels.\n",
      "Optimised initial model image (BaseCube) based on the dirty image saved to: RML_loop_outputs/dirty_image_model.pt\n",
      "\n",
      "SimpleNet network initialised.\n",
      "Using optimised initial model image (loaded from: RML_loop_outputs/dirty_image_model.pt) based on the dirty image as the initial BaseCube image\n",
      "\n",
      "Starting the optimisation loop with 600 iterations...\n",
      "loss tracker:  [26.869566851574483, 26.050580987371028, 25.109970559813156, 23.924932568969506, 22.41345477541621, 20.535767269184575, 18.255326178421864, 15.626341427501826, 12.82916034444055, 10.085396733635928, 7.600794861664056, 5.535083031959747, 3.984980874738507, 2.980052958462351, 2.486882307333782, 2.4183267034042424, 2.6492695067532566, 3.0394065954760108, 3.457859959416999, 3.8029843438740207, 4.0125784536942115, 4.063655795990874, 3.964922200410227, 3.7464495013568775, 3.4498286676026235, 3.1194278927685146, 2.7956738777393233, 2.5106292092384166, 2.2856485134461995, 2.130952917164886, 2.0464060620489763, 2.0230364317416196, 2.0457528818807056, 2.09642568049815, 2.1566756689767286, 2.210311268192219, 2.245305854514261, 2.254901537345533, 2.2376863159484794, 2.1968550141237095, 2.1390830136619603, 2.073060764373078, 2.0078321023427903, 1.951165800404858, 1.908471653254315, 1.8822475236968461, 1.8720629948883563, 1.8748929550275584, 1.8858991934587532, 1.8999521089554459, 1.9125050386788456, 1.9201872963713265, 1.9212444818703804, 1.9155143935404284, 1.904268480878435, 1.88970493672584, 1.8743019888045203, 1.8602330331788042, 1.8490085189745031, 1.841421449560977, 1.8375334207470273, 1.8367866062517644, 1.8381864260266294, 1.8405436557379926, 1.8427776276023726, 1.8440916658501634, 1.8440600724336629, 1.8426347851623475, 1.8400037583034496, 1.8365265942701472, 1.8327020692048221, 1.8290130994704161, 1.8258422420521705, 1.8234366449007622, 1.8220185656939385, 1.8215682105606104, 1.821805999270731, 1.8223085418140759, 1.8226807166614216, 1.8227104151625158, 1.8223604701939478, 1.8216663065401208, 1.8206350648441654, 1.819399996640777, 1.8181993675305899, 1.8172002359881374, 1.8164542233009424, 1.8159937233991015, 1.8157699302091954, 1.8156783352513668, 1.8156218846934467, 1.8155635842208695, 1.8154286349249311, 1.8151621452985787, 1.8148197295982516, 1.8144807696945986, 1.8141005938210328, 1.8137352028973464, 1.8134268128109527, 1.8131857798805007, 1.8129995983506664, 1.8128627930407486, 1.8127604879029118, 1.8126656098357985, 1.8125267548019846, 1.8123741278535443, 1.8122097525763476, 1.8120003935745084, 1.8117843968481455, 1.8115842742916644, 1.811379191077007, 1.8112098288448335, 1.8110573207593896, 1.810894066015981, 1.8106690758225565, 1.8103214771515086, 1.8098287393306127, 1.809214464352255, 1.8085973434502844, 1.8080849811550226, 1.8077771950842378, 1.807709819152392, 1.8078121230550863, 1.807908615001321, 1.807857900166012, 1.807661885412123, 1.807404914465902, 1.807153971333714, 1.8068882721408381, 1.8065946365690908, 1.8062740603959029, 1.805876769600417, 1.8053197995350982, 1.804517118984652, 1.803578572005744, 1.802693104210078, 1.80210887152882, 1.801724982036493, 1.8013798772264866, 1.8010456863678448, 1.8008333007356139, 1.8006870674098177, 1.800586681933328, 1.800551725015156, 1.8005086585292052, 1.8003912635396018, 1.8001908849578894, 1.7999733783337633, 1.7997782898259327, 1.7995557557349682, 1.7993068805062395, 1.7990707895958788, 1.7988959537423068, 1.7988036677073127, 1.7986802813160616, 1.7985301140135126, 1.7983742028762195, 1.7982506720850189, 1.7981403848566107, 1.7979668951261278, 1.79782800202428, 1.7977269109992782, 1.79760558882296, 1.7974529100003829, 1.7972849518535285, 1.7971096452821123, 1.7969827766418358, 1.7968984145599856, 1.7968203685602466, 1.7967218476513345, 1.7966055858415138, 1.7965099033308884, 1.7964065480310698, 1.796302979799099, 1.7961933567086108, 1.7960803106448424, 1.795954906008811, 1.795830545420062, 1.7957227242947327, 1.7955504949868752, 1.79536616776108, 1.7952090121225042, 1.7950483891698448, 1.794830223283013, 1.794540891151262, 1.7941330458962557, 1.7937265625778969, 1.7935407447131038, 1.7937629327108833, 1.7937667531304748, 1.7935444616859684, 1.7933279654636836, 1.7932080298113573, 1.7931871115785847, 1.7931471519308024, 1.7930986799446658, 1.7930072364651761, 1.7928823225828685, 1.7927853220415233, 1.792741006473608, 1.792742591378856, 1.7927053167205107, 1.7926306351474701, 1.792546583465401, 1.7924794626387743, 1.792429668125323, 1.7923375532454893, 1.7921716111957562, 1.7919300406788785, 1.791640326092158, 1.7913341801194824, 1.791022940246558, 1.7907234704942137, 1.7904837622215095, 1.7903844048112498, 1.790342521246011, 1.7902735274746222, 1.7901609058228334, 1.7900200998176725, 1.7898621411014908, 1.7896578676713184, 1.7894763267650038, 1.7893682592059168, 1.78933044456545, 1.7892967153527823, 1.7892612043161973, 1.7891709158002294, 1.789042583654414, 1.7888976604102156, 1.7887556502769866, 1.7886235796321177, 1.788480771002268, 1.788342295483537, 1.7883300119846266, 1.7883002415080231, 1.7881982591225836, 1.7880626631737486, 1.787963108349924, 1.7878884520786589, 1.7877922812563154, 1.7876966619999928, 1.7875811625129345, 1.7875091125327018, 1.7873821653991164, 1.7871709531587714, 1.7869659102287325, 1.7869421909067278, 1.7869490335048082, 1.78680018309456, 1.7866868555077215, 1.7866351967169618, 1.7866481516329866, 1.7866062001341905, 1.7865279821821431, 1.7864516886476374, 1.7863915307314855, 1.7863625200164455, 1.7863365707578207, 1.7862621134118244, 1.7861758184091505, 1.786103484659416, 1.7860134881250638, 1.7858827661512828, 1.7857853226342995, 1.7858048614276083, 1.7857796523626281, 1.7856889181966542, 1.7855897467439712, 1.7855112044331432, 1.7854216872121085, 1.7853080036288658, 1.78520496212525, 1.7851537766885588, 1.785126283141057, 1.7850335188573547, 1.784883473069669, 1.7847469438584898, 1.7847015804912996, 1.7846968728760102, 1.7846112386739434, 1.7844868207229287, 1.7844002453398629, 1.7843447311408946, 1.7842810117548675, 1.7842386294661792, 1.7841906567736772, 1.7841677254117256, 1.7841751874329843, 1.7841325185262626, 1.7840841255762785, 1.7840023122124105, 1.7839152150987914, 1.7838344350845818, 1.783728438089613, 1.7836991375974458, 1.7836831364880579, 1.783653004089402, 1.783604857744918, 1.783567754092993, 1.7835166454395663, 1.7834800156610682, 1.7834731758935178, 1.783441690529205, 1.78338848541415, 1.7833120423842885, 1.7832022166212798, 1.7830421236023284, 1.7828300330585107, 1.7826864091339396, 1.7826484211435663, 1.7826716677747332, 1.7827112412457293, 1.7826936833527096, 1.7826217275214071, 1.7825543568247346, 1.7824977591034268, 1.782449942816623, 1.7824259210891762, 1.782404721506229, 1.7823771545935814, 1.7823238025928563, 1.7822797047578944, 1.7821920325083558, 1.782120066342158, 1.782103145498224, 1.7820252489575268, 1.7819606282488287, 1.781938521831467, 1.781904319374115, 1.7818731818970517, 1.7818441616121037, 1.7817967890910635, 1.781752571621453, 1.781722819950933, 1.781700079015488, 1.781686807476385, 1.7816565187253706, 1.781640456509562, 1.7816347700232038, 1.781604190440637, 1.7815770004025322, 1.7815360691143864, 1.7814883592505384, 1.7814444587448564, 1.7814441099301916, 1.781422899929569, 1.7813710711609514, 1.7813341064134656, 1.7813171091327247, 1.7812904067425361, 1.78124101667972, 1.7811874874878644, 1.7811387175129278, 1.781100597375762, 1.7810639638799162, 1.7810331888651145, 1.7809783485713493, 1.780945705292372, 1.7809276651500274, 1.7809003552723193, 1.7808607533925704, 1.7808462052134106, 1.7808257780635373, 1.7807720219927534, 1.7807278070556336, 1.78067329965259, 1.7806343603266614, 1.7805911763873106, 1.7805687396108298, 1.7805319419915007, 1.7804794101396444, 1.780448501200499, 1.7804218765543292, 1.7803741322294444, 1.7803126702180794, 1.7802421720885806, 1.7801465581745792, 1.779989463945773, 1.7797925455265753, 1.7796968347423205, 1.7796005043795333, 1.7795408374697748, 1.7795653067808963, 1.7795748261664246, 1.7795526900618577, 1.779480574465019, 1.779401009858274, 1.7793561626150582, 1.7793553443097256, 1.7793693408195923, 1.779371863827464, 1.7793338943652481, 1.7792986534130837, 1.7792480894063094, 1.7791976061563641, 1.779125798869196, 1.7790931757832213, 1.779066598304361, 1.7790635940077606, 1.779030279035662, 1.7789740965213923, 1.7789242433516004, 1.7788762883720173, 1.7788523966770775, 1.7788245951274924, 1.7788043326467429, 1.7787891588467275, 1.7787536762266194, 1.7787215657850137, 1.7787006050069727, 1.778676612035827, 1.7786742563715954, 1.7786607292838523, 1.7786449877163997, 1.7786132601359297, 1.7785944296075633, 1.7785727397864204, 1.7785654689022656, 1.7785423454979343, 1.7785185472721181, 1.7785121577655514, 1.7785003275250522, 1.778481231841513, 1.7784678703867094, 1.7784433048266333, 1.7784326981660512, 1.7784163401735256, 1.7783908154261105, 1.7783894963117073, 1.7783717971262767, 1.7783516447918444, 1.7783214229883968, 1.778318860216804, 1.7782729673000461, 1.778238915247749, 1.7782206841214139, 1.7782227678878446, 1.778191713616688, 1.7781659530341558, 1.7781752149412686, 1.7781638083436115, 1.7781343630947604, 1.7781114639625248, 1.7781015719209743, 1.7780726308083734, 1.7780473357973519, 1.7780152505594327, 1.7779963231364417, 1.777957496929317, 1.777936193994555, 1.7779037173577303, 1.7778558892512764, 1.7778094912048736, 1.7777611405563758, 1.7777129612429634, 1.7776899975473877, 1.7776285590883818, 1.7775783692844436, 1.7775287859580147, 1.7775390521301468, 1.777493373862733, 1.7774530312420027, 1.777428663278602, 1.777401192770229, 1.777376035705586, 1.7773723088728013, 1.777341349550548, 1.777312087590076, 1.7772919414926371, 1.7772915551500699, 1.7772679367765973, 1.777244247117716, 1.7772078720402993, 1.777192165625518, 1.7771659149646073, 1.777138738907584, 1.7770969587758312, 1.7770995968529075, 1.7770765477394306, 1.7770620108680228, 1.7770200006851178, 1.7769953059704577, 1.776949217928904, 1.7769182669975756, 1.77685814531544, 1.7766908859349964, 1.776440212739168, 1.7762464469152157, 1.7761864813147021, 1.7762423877055438, 1.7763133894385918, 1.7763523213241592, 1.7763042464941743, 1.7762122212140203, 1.7760965088809946, 1.7760541076575103, 1.7759878056164429, 1.7759644537247317, 1.7759599167707523, 1.7759703710041292, 1.7759687266044204, 1.7759234173492737, 1.775854559860611, 1.7757991097838919, 1.7757529472016624, 1.7757106137976628, 1.775659960538172, 1.7755603768258716, 1.7754692821906113, 1.7754363966141893, 1.7753975623997913, 1.775209000180832, 1.7748349405355248, 1.7744191678154024, 1.7742025805544237, 1.774236105085283, 1.7743657541414746, 1.774393686883813, 1.7743157707630806, 1.7741879302925856, 1.774095097711245, 1.7740626970504774, 1.7740649342635033, 1.7740805183395831, 1.7740557968837993, 1.7740268644005222, 1.773986291156657, 1.7739443164710527, 1.7739102672020841, 1.7738927276124608, 1.7738493991330522, 1.773806133046231, 1.7737587123448277, 1.7737328661058196, 1.7736607459193963, 1.7735735984248044, 1.7734080815410855, 1.7732206401216712, 1.773054347787786, 1.773091384712152, 1.7731403770632004, 1.7730708724052633, 1.7729663440162207, 1.772929767965586, 1.7729269670074623, 1.7729469861055989, 1.77290333614901, 1.7728572611402793, 1.772809148766655, 1.7727411968538425, 1.7727110227603602, 1.77270705398135, 1.7726826178882922, 1.7726492142132424, 1.7726169576521094, 1.7725834847484672, 1.7725523317151086, 1.7725572423267806, 1.7725143089039754, 1.7724796620721257, 1.7724107682603019, 1.7723864782117906, 1.7723766756798307, 1.7723669581801234, 1.7723281333758232, 1.7723146640740175, 1.772293465415722, 1.7722852546989964, 1.7722844370094784, 1.7722663641807304, 1.7722547974986016, 1.772226882120727, 1.7722098457059379, 1.772192370650253, 1.772186887872599, 1.772180310105172, 1.7721814907124291, 1.7721571367444524, 1.7721418617307463, 1.772130083647501, 1.7721130320524374, 1.7721025421641108, 1.7720865019940932, 1.7720787785997778, 1.7720629913417467, 1.7720642854904087, 1.7720347228434434, 1.7720337237248232, 1.7720172512306365, 1.7719981275675347, 1.7719956607067286, 1.7719777020504708, 1.771984569280566, 1.771963318821248, 1.771947270871469, 1.7719508974799012, 1.7719197164362244, 1.771917424871889, 1.7718922399746173, 1.7718956004010757]\n",
      "Done.\n",
      "The optimisation loop finished in 3.50 seconds.\n",
      "\n",
      "Initial loss: 26.87\n",
      "Final loss: 1.77\n",
      "\n",
      "Loss per iteration plot saved to: RML_loop_outputs/loss_per_iteration.pdf\n",
      "\n",
      "Maximum likelihood image plot saved to: RML_loop_outputs/maximum_likelihood_image.pdf\n",
      "\n"
     ]
    },
    {
     "data": {
      "image/png": "[encoded data removed]",
      "text/plain": [
       "<Figure size 432x288 with 2 Axes>"
      ]
     },
     "metadata": {
      "needs_background": "light"
     },
     "output_type": "display_data"
    }
   ],
   "source": [
    "# function call\n",
    "###########################################################################################################################################\n",
    "img_cube = RML_imager(visibility_file=visibility_file, cell_size=cell_size, npix=npix, learning_rate=learning_rate, hyperparams_config=hyperparams_config, start_from_dirty_image = start_from_dirty_image, learning_rate_dim=5, n_iter_dim=500)\n",
    "###########################################################################################################################################"
   ]
  },
  {
   "cell_type": "code",
   "execution_count": 11,
   "metadata": {},
   "outputs": [
    {
     "data": {
      "text/plain": [
       "64.0"
      ]
     },
     "execution_count": 11,
     "metadata": {},
     "output_type": "execute_result"
    }
   ],
   "source": [
    "(4**4)*15/60\n"
   ]
  },
  {
   "cell_type": "code",
   "execution_count": null,
   "metadata": {},
   "outputs": [],
   "source": []
  }
 ],
 "metadata": {
  "kernelspec": {
   "display_name": "base",
   "language": "python",
   "name": "python3"
  },
  "language_info": {
   "codemirror_mode": {
    "name": "ipython",
    "version": 3
   },
   "file_extension": ".py",
   "mimetype": "text/x-python",
   "name": "python",
   "nbconvert_exporter": "python",
   "pygments_lexer": "ipython3",
   "version": "3.8.8"
  }
 },
 "nbformat": 4,
 "nbformat_minor": 2
}
