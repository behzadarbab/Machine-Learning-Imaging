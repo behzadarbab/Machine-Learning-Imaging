{
 "cells": [
  {
   "cell_type": "code",
   "execution_count": 4,
   "metadata": {},
   "outputs": [],
   "source": [
    "import numpy as np\n",
    "import matplotlib.pyplot as plt\n",
    "import os\n",
    "from astropy.constants import c\n",
    "import tempfile\n",
    "import tarfile\n",
    "import casatools"
   ]
  },
  {
   "cell_type": "code",
   "execution_count": 2,
   "metadata": {},
   "outputs": [],
   "source": [
    "fname = '../data/visibilities/twhya_smoothed.ms'"
   ]
  },
  {
   "cell_type": "code",
   "execution_count": 5,
   "metadata": {},
   "outputs": [],
   "source": [
    "msmd = casatools.msmetadata()\n",
    "ms = casatools.ms()\n",
    "tb = casatools.table()"
   ]
  },
  {
   "cell_type": "code",
   "execution_count": 7,
   "metadata": {},
   "outputs": [
    {
     "name": "stdout",
     "output_type": "stream",
     "text": [
      "['UVW', 'FLAG', 'FLAG_CATEGORY', 'WEIGHT', 'SIGMA', 'ANTENNA1', 'ANTENNA2', 'ARRAY_ID', 'DATA_DESC_ID', 'EXPOSURE', 'FEED1', 'FEED2', 'FIELD_ID', 'FLAG_ROW', 'INTERVAL', 'OBSERVATION_ID', 'PROCESSOR_ID', 'SCAN_NUMBER', 'STATE_ID', 'TIME', 'TIME_CENTROID', 'DATA']\n"
     ]
    }
   ],
   "source": [
    "tb.open(fname)\n",
    "colnames = tb.colnames()\n",
    "tb.close()\n",
    "print(colnames)"
   ]
  },
  {
   "cell_type": "code",
   "execution_count": 8,
   "metadata": {},
   "outputs": [
    {
     "name": "stdout",
     "output_type": "stream",
     "text": [
      "[0]\n"
     ]
    },
    {
     "name": "stderr",
     "output_type": "stream",
     "text": [
      "2024-02-28 08:41:16\tINFO\tmsmetadata_cmpt.cc::open\tPerforming internal consistency checks on ../data/visibilities/twhya_smoothed.ms...\n"
     ]
    }
   ],
   "source": [
    "msmd.open(fname)\n",
    "spws = msmd.datadescids()\n",
    "msmd.done()\n",
    "print(spws)"
   ]
  },
  {
   "cell_type": "code",
   "execution_count": 9,
   "metadata": {},
   "outputs": [
    {
     "name": "stdout",
     "output_type": "stream",
     "text": [
      "[0]\n"
     ]
    }
   ],
   "source": [
    "tb.open(fname + \"/DATA_DESCRIPTION\")\n",
    "SPECTRAL_WINDOW_ID = tb.getcol(\"SPECTRAL_WINDOW_ID\")\n",
    "tb.close()\n",
    "print(SPECTRAL_WINDOW_ID)"
   ]
  },
  {
   "cell_type": "code",
   "execution_count": 10,
   "metadata": {},
   "outputs": [
    {
     "name": "stdout",
     "output_type": "stream",
     "text": [
      "48\n",
      "[3.72535223e+11 3.72540105e+11 3.72544988e+11 3.72549871e+11\n",
      " 3.72554754e+11 3.72559637e+11 3.72564520e+11 3.72569402e+11\n",
      " 3.72574285e+11 3.72579168e+11 3.72584051e+11 3.72588934e+11\n",
      " 3.72593816e+11 3.72598699e+11 3.72603582e+11 3.72608465e+11\n",
      " 3.72613348e+11 3.72618230e+11 3.72623113e+11 3.72627996e+11\n",
      " 3.72632879e+11 3.72637762e+11 3.72642645e+11 3.72647527e+11\n",
      " 3.72652410e+11 3.72657293e+11 3.72662176e+11 3.72667059e+11\n",
      " 3.72671941e+11 3.72676824e+11 3.72681707e+11 3.72686590e+11\n",
      " 3.72691473e+11 3.72696355e+11 3.72701238e+11 3.72706121e+11\n",
      " 3.72711004e+11 3.72715887e+11 3.72720770e+11 3.72725652e+11\n",
      " 3.72730535e+11 3.72735418e+11 3.72740301e+11 3.72745184e+11\n",
      " 3.72750066e+11 3.72754949e+11 3.72759832e+11 3.72764715e+11]\n"
     ]
    },
    {
     "name": "stderr",
     "output_type": "stream",
     "text": [
      "2024-02-28 08:41:46\tINFO\tmsmetadata_cmpt.cc::open\tPerforming internal consistency checks on ../data/visibilities/twhya_smoothed.ms...\n"
     ]
    }
   ],
   "source": [
    "spw_id = 0\n",
    "msmd.open(fname)\n",
    "chan_freq = msmd.chanfreqs(spw_id)\n",
    "msmd.done()\n",
    "nchan = len(chan_freq)\n",
    "print(nchan)\n",
    "print(chan_freq)"
   ]
  },
  {
   "cell_type": "code",
   "execution_count": 11,
   "metadata": {},
   "outputs": [],
   "source": [
    "spw_id = 0\n",
    "ms.open(fname)\n",
    "ms.selectinit(spw_id)\n",
    "d = ms.getdata([\"uvw\"])  \n",
    "ms.done()\n",
    "# d[\"uvw\"] is an array of float64 with shape [3, nvis]\n",
    "uu, vv, ww = d[\"uvw\"]  # unpack into len nvis vectors"
   ]
  },
  {
   "cell_type": "code",
   "execution_count": 12,
   "metadata": {},
   "outputs": [
    {
     "data": {
      "text/plain": [
       "Text(0, 0.5, '$v$ [m]')"
      ]
     },
     "execution_count": 12,
     "metadata": {},
     "output_type": "execute_result"
    },
    {
     "data": {
      "image/png": "[encoded data removed]",
      "text/plain": [
       "<Figure size 252x252 with 1 Axes>"
      ]
     },
     "metadata": {
      "needs_background": "light"
     },
     "output_type": "display_data"
    }
   ],
   "source": [
    "fig, ax = plt.subplots(nrows=1, figsize=(3.5, 3.5))\n",
    "ax.scatter(uu, vv, s=1.5, rasterized=True, linewidths=0.0, c=\"k\")\n",
    "ax.set_xlabel(r\"$u$ [m]\")\n",
    "ax.set_ylabel(r\"$v$ [m]\")"
   ]
  },
  {
   "cell_type": "code",
   "execution_count": 17,
   "metadata": {},
   "outputs": [
    {
     "data": {
      "text/plain": [
       "array([108.79658039, -70.59373831, -36.16480149, ..., -45.54947703,\n",
       "       -19.70774314,  25.84173389])"
      ]
     },
     "execution_count": 17,
     "metadata": {},
     "output_type": "execute_result"
    }
   ],
   "source": [
    "uu"
   ]
  },
  {
   "cell_type": "code",
   "execution_count": 18,
   "metadata": {},
   "outputs": [
    {
     "data": {
      "text/plain": [
       "(44772,)"
      ]
     },
     "execution_count": 18,
     "metadata": {},
     "output_type": "execute_result"
    }
   ],
   "source": [
    "uu.shape"
   ]
  },
  {
   "cell_type": "code",
   "execution_count": 19,
   "metadata": {},
   "outputs": [
    {
     "data": {
      "text/plain": [
       "array([[108.79658039, -70.59373831, -36.16480149, ..., -45.54947703,\n",
       "        -19.70774314,  25.84173389],\n",
       "       [108.79658039, -70.59373831, -36.16480149, ..., -45.54947703,\n",
       "        -19.70774314,  25.84173389],\n",
       "       [108.79658039, -70.59373831, -36.16480149, ..., -45.54947703,\n",
       "        -19.70774314,  25.84173389],\n",
       "       ...,\n",
       "       [108.79658039, -70.59373831, -36.16480149, ..., -45.54947703,\n",
       "        -19.70774314,  25.84173389],\n",
       "       [108.79658039, -70.59373831, -36.16480149, ..., -45.54947703,\n",
       "        -19.70774314,  25.84173389],\n",
       "       [108.79658039, -70.59373831, -36.16480149, ..., -45.54947703,\n",
       "        -19.70774314,  25.84173389]])"
      ]
     },
     "execution_count": 19,
     "metadata": {},
     "output_type": "execute_result"
    }
   ],
   "source": [
    "# broadcast to the same shape as the data\n",
    "# stub to broadcast uu,vv, and weights to all channels\n",
    "broadcast = np.ones((nchan, 1))\n",
    "uu = uu * broadcast\n",
    "vv = vv * broadcast\n",
    "\n",
    "uu"
   ]
  },
  {
   "cell_type": "code",
   "execution_count": 20,
   "metadata": {},
   "outputs": [
    {
     "data": {
      "text/plain": [
       "(48, 44772)"
      ]
     },
     "execution_count": 20,
     "metadata": {},
     "output_type": "execute_result"
    }
   ],
   "source": [
    "uu.shape"
   ]
  },
  {
   "cell_type": "code",
   "execution_count": 23,
   "metadata": {},
   "outputs": [
    {
     "data": {
      "text/plain": [
       "True"
      ]
     },
     "execution_count": 23,
     "metadata": {},
     "output_type": "execute_result"
    }
   ],
   "source": [
    "tb.open(fname)\n",
    "weight = tb.getcol(\"WEIGHT\")  # array of float64 with shape [npol, nvis]\n",
    "flag = tb.getcol(\"FLAG\")  # array of bool with shape [npol, nchan, nvis]\n",
    "data_raw = tb.getcol(\"DATA\")  # array of complex128 with shape [npol, nchan, nvis]\n",
    "#data_corrected = tb.getcol(\n",
    "#    \"CORRECTED_DATA\"\n",
    "#)  # array of complex128 with shape [npol, nchan, nvis]\n",
    "tb.close()"
   ]
  },
  {
   "cell_type": "code",
   "execution_count": 26,
   "metadata": {},
   "outputs": [
    {
     "data": {
      "text/plain": [
       "(2, 48, 44772)"
      ]
     },
     "execution_count": 26,
     "metadata": {},
     "output_type": "execute_result"
    }
   ],
   "source": [
    "data_raw.shape"
   ]
  },
  {
   "cell_type": "code",
   "execution_count": 28,
   "metadata": {},
   "outputs": [
    {
     "data": {
      "text/plain": [
       "False"
      ]
     },
     "execution_count": 28,
     "metadata": {},
     "output_type": "execute_result"
    }
   ],
   "source": [
    "np.any(flag)"
   ]
  },
  {
   "cell_type": "code",
   "execution_count": 29,
   "metadata": {},
   "outputs": [
    {
     "data": {
      "text/plain": [
       "True"
      ]
     },
     "execution_count": 29,
     "metadata": {},
     "output_type": "execute_result"
    }
   ],
   "source": [
    "tb.open(fname)\n",
    "uvw = tb.getcol(\"UVW\")  # array of float64 with shape [3, nvis]\n",
    "weight = tb.getcol(\"WEIGHT\")  # array of float64 with shape [npol, nvis]\n",
    "flag = tb.getcol(\"FLAG\")  # array of bool with shape [npol, nchan, nvis]\n",
    "data = tb.getcol(\"DATA\")  # array of complex128 with shape [npol, nchan, nvis]\n",
    "tb.close()"
   ]
  },
  {
   "cell_type": "code",
   "execution_count": 30,
   "metadata": {},
   "outputs": [],
   "source": [
    "# average the polarizations\n",
    "# https://en.wikipedia.org/wiki/Weighted_arithmetic_mean\n",
    "data = np.sum(data * weight[:, np.newaxis, :], axis=0) / np.sum(weight, axis=0)"
   ]
  },
  {
   "cell_type": "markdown",
   "metadata": {},
   "source": [
    "**Incomplete**\\\n",
    "For further steps, see tutorial at: https://mpol-dev.github.io/visread/tutorials/introduction_to_casatools.html#intro-casatools-label"
   ]
  },
  {
   "cell_type": "markdown",
   "metadata": {},
   "source": []
  }
 ],
 "metadata": {
  "kernelspec": {
   "display_name": "base",
   "language": "python",
   "name": "python3"
  },
  "language_info": {
   "codemirror_mode": {
    "name": "ipython",
    "version": 3
   },
   "file_extension": ".py",
   "mimetype": "text/x-python",
   "name": "python",
   "nbconvert_exporter": "python",
   "pygments_lexer": "ipython3",
   "version": "3.8.8"
  }
 },
 "nbformat": 4,
 "nbformat_minor": 2
}
