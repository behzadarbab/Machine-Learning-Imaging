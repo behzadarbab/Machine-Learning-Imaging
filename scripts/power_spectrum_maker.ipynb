{
 "cells": [
  {
   "cell_type": "code",
   "execution_count": 14,
   "metadata": {},
   "outputs": [],
   "source": [
    "import numpy as np\n",
    "import pandas as pd\n",
    "import matplotlib.pyplot as plt\n",
    "import math"
   ]
  },
  {
   "cell_type": "code",
   "execution_count": 2,
   "metadata": {},
   "outputs": [],
   "source": [
    "visibility_file = '../data/visibilities/mock_visibilities_model_star_new.npz'"
   ]
  },
  {
   "cell_type": "code",
   "execution_count": 3,
   "metadata": {},
   "outputs": [
    {
     "name": "stdout",
     "output_type": "stream",
     "text": [
      "Loaded visibilities from ../data/visibilities/mock_visibilities_model_star_new.npz.\n",
      "The dataset has 325080 visibilities.\n",
      "\n"
     ]
    }
   ],
   "source": [
    "# load the mock visibilities from the .npz file\n",
    "d = np.load(visibility_file)\n",
    "uu = d[\"uu\"]\n",
    "vv = d[\"vv\"]\n",
    "weight = d[\"weight\"]\n",
    "data = d[\"data\"]\n",
    "data_re = np.real(data)\n",
    "data_im = np.imag(data)\n",
    "\n",
    "#calculate the amplitude and phase of the visibilities\n",
    "amp = np.abs(data)\n",
    "phase = np.angle(data)\n",
    "\n",
    "# calculate the uv distance (baseline separations in meters, calculated as sqrt(u*u+v*v))\n",
    "uvdist = np.hypot(uu, vv)\n",
    "\n",
    "nvis = data.shape[0]\n",
    "\n",
    "print(f'Loaded visibilities from {visibility_file}.')\n",
    "print(f'The dataset has {nvis} visibilities.\\n')"
   ]
  },
  {
   "cell_type": "code",
   "execution_count": 4,
   "metadata": {},
   "outputs": [
    {
     "data": {
      "text/html": [
       "<div>\n",
       "<style scoped>\n",
       "    .dataframe tbody tr th:only-of-type {\n",
       "        vertical-align: middle;\n",
       "    }\n",
       "\n",
       "    .dataframe tbody tr th {\n",
       "        vertical-align: top;\n",
       "    }\n",
       "\n",
       "    .dataframe thead th {\n",
       "        text-align: right;\n",
       "    }\n",
       "</style>\n",
       "<table border=\"1\" class=\"dataframe\">\n",
       "  <thead>\n",
       "    <tr style=\"text-align: right;\">\n",
       "      <th></th>\n",
       "      <th>uvdist</th>\n",
       "      <th>V_re</th>\n",
       "      <th>V_im</th>\n",
       "    </tr>\n",
       "  </thead>\n",
       "  <tbody>\n",
       "    <tr>\n",
       "      <th>0</th>\n",
       "      <td>28.902154</td>\n",
       "      <td>8.430027</td>\n",
       "      <td>-1.448523</td>\n",
       "    </tr>\n",
       "    <tr>\n",
       "      <th>1</th>\n",
       "      <td>28.909034</td>\n",
       "      <td>5.063991</td>\n",
       "      <td>0.413781</td>\n",
       "    </tr>\n",
       "    <tr>\n",
       "      <th>2</th>\n",
       "      <td>28.915925</td>\n",
       "      <td>6.158061</td>\n",
       "      <td>0.746967</td>\n",
       "    </tr>\n",
       "    <tr>\n",
       "      <th>3</th>\n",
       "      <td>28.922826</td>\n",
       "      <td>2.825887</td>\n",
       "      <td>-0.299580</td>\n",
       "    </tr>\n",
       "    <tr>\n",
       "      <th>4</th>\n",
       "      <td>28.929738</td>\n",
       "      <td>6.280441</td>\n",
       "      <td>0.984376</td>\n",
       "    </tr>\n",
       "    <tr>\n",
       "      <th>...</th>\n",
       "      <td>...</td>\n",
       "      <td>...</td>\n",
       "      <td>...</td>\n",
       "    </tr>\n",
       "    <tr>\n",
       "      <th>325075</th>\n",
       "      <td>2349.854223</td>\n",
       "      <td>0.660241</td>\n",
       "      <td>1.342157</td>\n",
       "    </tr>\n",
       "    <tr>\n",
       "      <th>325076</th>\n",
       "      <td>2350.191273</td>\n",
       "      <td>0.737226</td>\n",
       "      <td>1.377982</td>\n",
       "    </tr>\n",
       "    <tr>\n",
       "      <th>325077</th>\n",
       "      <td>2350.527455</td>\n",
       "      <td>0.144548</td>\n",
       "      <td>-0.118231</td>\n",
       "    </tr>\n",
       "    <tr>\n",
       "      <th>325078</th>\n",
       "      <td>2350.862770</td>\n",
       "      <td>1.224141</td>\n",
       "      <td>-0.229778</td>\n",
       "    </tr>\n",
       "    <tr>\n",
       "      <th>325079</th>\n",
       "      <td>2351.197217</td>\n",
       "      <td>0.584547</td>\n",
       "      <td>-0.214376</td>\n",
       "    </tr>\n",
       "  </tbody>\n",
       "</table>\n",
       "<p>325080 rows × 3 columns</p>\n",
       "</div>"
      ],
      "text/plain": [
       "             uvdist      V_re      V_im\n",
       "0         28.902154  8.430027 -1.448523\n",
       "1         28.909034  5.063991  0.413781\n",
       "2         28.915925  6.158061  0.746967\n",
       "3         28.922826  2.825887 -0.299580\n",
       "4         28.929738  6.280441  0.984376\n",
       "...             ...       ...       ...\n",
       "325075  2349.854223  0.660241  1.342157\n",
       "325076  2350.191273  0.737226  1.377982\n",
       "325077  2350.527455  0.144548 -0.118231\n",
       "325078  2350.862770  1.224141 -0.229778\n",
       "325079  2351.197217  0.584547 -0.214376\n",
       "\n",
       "[325080 rows x 3 columns]"
      ]
     },
     "execution_count": 4,
     "metadata": {},
     "output_type": "execute_result"
    }
   ],
   "source": [
    "re_and_im_df = pd.DataFrame({'uvdist': uvdist, 'V_re': data_re, 'V_im': data_im})\n",
    "re_and_im_df.sort_values(by='uvdist', inplace=True, ignore_index=True)\n",
    "re_and_im_df"
   ]
  },
  {
   "cell_type": "code",
   "execution_count": 5,
   "metadata": {},
   "outputs": [
    {
     "data": {
      "image/png": "[encoded data removed]",
      "text/plain": [
       "<Figure size 576x360 with 2 Axes>"
      ]
     },
     "metadata": {
      "needs_background": "light"
     },
     "output_type": "display_data"
    }
   ],
   "source": [
    "fig, ax = plt.subplots(nrows=2, sharex=True, figsize=(8, 5))\n",
    "pkw = {\"s\":1, \"rasterized\":True, \"linewidths\":0.0, \"c\":\"k\"}\n",
    "\n",
    "ax[0].scatter(re_and_im_df['uvdist'], re_and_im_df['V_re'], **pkw)\n",
    "ax[0].set_ylabel(\"Re(V) [Jy]\")\n",
    "\n",
    "ax[1].scatter(re_and_im_df['uvdist'], re_and_im_df['V_im'], **pkw)\n",
    "ax[1].set_ylabel(\"Im(V) [Jy]\")\n",
    "\n",
    "plt.tight_layout()\n",
    "plt.show()"
   ]
  },
  {
   "cell_type": "code",
   "execution_count": 6,
   "metadata": {},
   "outputs": [
    {
     "data": {
      "text/html": [
       "<div>\n",
       "<style scoped>\n",
       "    .dataframe tbody tr th:only-of-type {\n",
       "        vertical-align: middle;\n",
       "    }\n",
       "\n",
       "    .dataframe tbody tr th {\n",
       "        vertical-align: top;\n",
       "    }\n",
       "\n",
       "    .dataframe thead th {\n",
       "        text-align: right;\n",
       "    }\n",
       "</style>\n",
       "<table border=\"1\" class=\"dataframe\">\n",
       "  <thead>\n",
       "    <tr style=\"text-align: right;\">\n",
       "      <th></th>\n",
       "      <th>uvdist</th>\n",
       "      <th>V_re</th>\n",
       "      <th>V_im</th>\n",
       "      <th>power</th>\n",
       "    </tr>\n",
       "  </thead>\n",
       "  <tbody>\n",
       "    <tr>\n",
       "      <th>0</th>\n",
       "      <td>39.352481</td>\n",
       "      <td>4.745270</td>\n",
       "      <td>0.097538</td>\n",
       "      <td>22.527099</td>\n",
       "    </tr>\n",
       "    <tr>\n",
       "      <th>1</th>\n",
       "      <td>63.736580</td>\n",
       "      <td>4.134185</td>\n",
       "      <td>-0.190240</td>\n",
       "      <td>17.127678</td>\n",
       "    </tr>\n",
       "    <tr>\n",
       "      <th>2</th>\n",
       "      <td>86.959530</td>\n",
       "      <td>3.600482</td>\n",
       "      <td>-0.031477</td>\n",
       "      <td>12.964462</td>\n",
       "    </tr>\n",
       "    <tr>\n",
       "      <th>3</th>\n",
       "      <td>110.182481</td>\n",
       "      <td>2.926807</td>\n",
       "      <td>-0.065020</td>\n",
       "      <td>8.570427</td>\n",
       "    </tr>\n",
       "    <tr>\n",
       "      <th>4</th>\n",
       "      <td>133.405432</td>\n",
       "      <td>2.182477</td>\n",
       "      <td>0.085241</td>\n",
       "      <td>4.770471</td>\n",
       "    </tr>\n",
       "    <tr>\n",
       "      <th>...</th>\n",
       "      <td>...</td>\n",
       "      <td>...</td>\n",
       "      <td>...</td>\n",
       "      <td>...</td>\n",
       "    </tr>\n",
       "    <tr>\n",
       "      <th>95</th>\n",
       "      <td>2246.693940</td>\n",
       "      <td>0.157775</td>\n",
       "      <td>0.223798</td>\n",
       "      <td>0.074979</td>\n",
       "    </tr>\n",
       "    <tr>\n",
       "      <th>96</th>\n",
       "      <td>2269.916890</td>\n",
       "      <td>-0.109408</td>\n",
       "      <td>0.054724</td>\n",
       "      <td>0.014965</td>\n",
       "    </tr>\n",
       "    <tr>\n",
       "      <th>97</th>\n",
       "      <td>2293.139841</td>\n",
       "      <td>0.202309</td>\n",
       "      <td>-0.275133</td>\n",
       "      <td>0.116627</td>\n",
       "    </tr>\n",
       "    <tr>\n",
       "      <th>98</th>\n",
       "      <td>2316.362792</td>\n",
       "      <td>0.167360</td>\n",
       "      <td>0.116769</td>\n",
       "      <td>0.041644</td>\n",
       "    </tr>\n",
       "    <tr>\n",
       "      <th>99</th>\n",
       "      <td>2339.585742</td>\n",
       "      <td>0.275690</td>\n",
       "      <td>-0.061070</td>\n",
       "      <td>0.079734</td>\n",
       "    </tr>\n",
       "  </tbody>\n",
       "</table>\n",
       "<p>100 rows × 4 columns</p>\n",
       "</div>"
      ],
      "text/plain": [
       "         uvdist      V_re      V_im      power\n",
       "0     39.352481  4.745270  0.097538  22.527099\n",
       "1     63.736580  4.134185 -0.190240  17.127678\n",
       "2     86.959530  3.600482 -0.031477  12.964462\n",
       "3    110.182481  2.926807 -0.065020   8.570427\n",
       "4    133.405432  2.182477  0.085241   4.770471\n",
       "..          ...       ...       ...        ...\n",
       "95  2246.693940  0.157775  0.223798   0.074979\n",
       "96  2269.916890 -0.109408  0.054724   0.014965\n",
       "97  2293.139841  0.202309 -0.275133   0.116627\n",
       "98  2316.362792  0.167360  0.116769   0.041644\n",
       "99  2339.585742  0.275690 -0.061070   0.079734\n",
       "\n",
       "[100 rows x 4 columns]"
      ]
     },
     "execution_count": 6,
     "metadata": {},
     "output_type": "execute_result"
    }
   ],
   "source": [
    "n_bins = 100\n",
    "\n",
    "re_and_im_df['uvdist_bins'], bin_edges = pd.cut(re_and_im_df['uvdist'], bins=n_bins, retbins=True)\n",
    "bin_centers = (bin_edges[1:] + bin_edges[:-1]) / 2\n",
    "\n",
    "bin_averaged_V_re = re_and_im_df.groupby('uvdist_bins')['V_re'].mean()\n",
    "bin_averaged_V_im = re_and_im_df.groupby('uvdist_bins')['V_im'].mean()\n",
    "bin_averaged_power = bin_averaged_V_re**2 + bin_averaged_V_im**2\n",
    "\n",
    "power_spectrum_df = pd.DataFrame({'uvdist': bin_centers, 'V_re': bin_averaged_V_re.values, 'V_im':bin_averaged_V_im.values, 'power': bin_averaged_power.values})\n",
    "power_spectrum_df\n"
   ]
  },
  {
   "cell_type": "code",
   "execution_count": 19,
   "metadata": {},
   "outputs": [
    {
     "data": {
      "image/png": "[encoded data removed]",
      "text/plain": [
       "<Figure size 432x288 with 1 Axes>"
      ]
     },
     "metadata": {
      "needs_background": "light"
     },
     "output_type": "display_data"
    }
   ],
   "source": [
    "fig, ax = plt.subplots()\n",
    "ax.plot(power_spectrum_df['uvdist']*1000, power_spectrum_df['power'], marker='.', color='k')\n",
    "ax.set_xlabel(r\"$uvdist$ [$\\lambda$]\")\n",
    "ax.set_ylabel(\"Power\")\n",
    "#plt.ylim(0, 0.75)\n",
    "plt.show()"
   ]
  },
  {
   "cell_type": "code",
   "execution_count": 48,
   "metadata": {},
   "outputs": [
    {
     "data": {
      "image/png": "[encoded data removed]",
      "text/plain": [
       "<Figure size 432x288 with 1 Axes>"
      ]
     },
     "metadata": {
      "needs_background": "light"
     },
     "output_type": "display_data"
    }
   ],
   "source": [
    "fig, ax = plt.subplots()\n",
    "ax.plot((1/(power_spectrum_df['uvdist']*1000))*(180*60*60/math.pi), power_spectrum_df['power'], marker='.', color='k')\n",
    "ax.set_xlabel(r\"scale [arcsec]\")\n",
    "ax.set_ylabel(\"Power\")\n",
    "\n",
    "plt.xscale('log')\n",
    "plt.xlim(right=1.5)\n",
    "plt.ylim(0, 0.75)\n",
    "\n",
    "plt.show()"
   ]
  }
 ],
 "metadata": {
  "kernelspec": {
   "display_name": "base",
   "language": "python",
   "name": "python3"
  },
  "language_info": {
   "codemirror_mode": {
    "name": "ipython",
    "version": 3
   },
   "file_extension": ".py",
   "mimetype": "text/x-python",
   "name": "python",
   "nbconvert_exporter": "python",
   "pygments_lexer": "ipython3",
   "version": "3.8.8"
  }
 },
 "nbformat": 4,
 "nbformat_minor": 2
}
